{
 "cells": [
  {
   "cell_type": "markdown",
   "metadata": {
    "collapsed": false,
    "pycharm": {
     "name": "#%% md\n"
    }
   },
   "source": [
    "# Azure ML quickstart\n",
    "## 1. Create local run environment\n",
    "```powershell\n",
    " pip install azureml-core azureml-telemetry azureml-widgets azureml-dataset-runtime\n",
    "```\n",
    "## 2. Create Azure Compute Cluster\n",
    "![AzureML Create compute cluster](./../img/create_cluster.png \"Create compute cluster\")\n",
    "\n",
    "![AzureML Naming convention](./../img/cluster_name.png \"Cluster naming convention\")\n",
    "\n",
    "## 3. Upload your dataset (if not present)\n",
    "Try to do it in separate script."
   ]
  },
  {
   "cell_type": "code",
   "execution_count": 1,
   "metadata": {
    "collapsed": false,
    "pycharm": {
     "name": "#%%\n"
    }
   },
   "outputs": [],
   "source": [
    "from azureml.core import Workspace\n",
    "from azureml.core.authentication import InteractiveLoginAuthentication\n",
    "from azureml.core.datastore import Datastore"
   ]
  },
  {
   "cell_type": "markdown",
   "metadata": {
    "collapsed": false,
    "pycharm": {
     "name": "#%% md\n"
    }
   },
   "source": [
    "1. you need to connect to workspace\n",
    "    - Ideally download the `config.json` and load it with it.\n",
    "    - ![config.json](./../img/config.png \"config.json for connecting to AML\")\n",
    "    - Use `InteractiveLoginAuthentification` to automatically redirect to web browser and login to Azure ML. (Use own credentials ;)"
   ]
  },
  {
   "cell_type": "code",
   "execution_count": 2,
   "metadata": {
    "collapsed": false,
    "pycharm": {
     "name": "#%%\n"
    }
   },
   "outputs": [],
   "source": [
    "ws = Workspace.from_config(path='azure_config.json', auth=InteractiveLoginAuthentication(tenant_id=\"5dbf1add-202a-4b8d-815b-bf0fb024e033\"))"
   ]
  },
  {
   "cell_type": "markdown",
   "metadata": {
    "collapsed": false,
    "pycharm": {
     "name": "#%% md\n"
    }
   },
   "source": [
    "2. get the default Datastore (you don't have privileges to any other)"
   ]
  },
  {
   "cell_type": "code",
   "execution_count": 3,
   "metadata": {
    "collapsed": false,
    "pycharm": {
     "name": "#%%\n"
    }
   },
   "outputs": [],
   "source": [
    "datastore = Datastore.get_default(ws)"
   ]
  },
  {
   "cell_type": "markdown",
   "metadata": {
    "collapsed": false,
    "pycharm": {
     "name": "#%% md\n"
    }
   },
   "source": [
    "3. Get the list of all files you want to upload\n",
    "    - there is no other way, the datasets in AzureML are only files and using the full path in their name works as the directory tree\n",
    "    - __Be extra careful with the relative_root and target_path__\n",
    "       - for example my upload that loadst data from directory \"data/...\" and uploads them into \"datasets/TexDat\"\n",
    "       - `relative_root` is the common path *parent directories* in the data names where you want your data to be translated under the `target_path`"
   ]
  },
  {
   "cell_type": "code",
   "execution_count": null,
   "metadata": {
    "collapsed": false,
    "pycharm": {
     "name": "#%%\n"
    }
   },
   "outputs": [],
   "source": [
    "import os\n",
    "files_tr = os.listdir('../data/train')\n",
    "files_tr = list(map(lambda x : os.path.join('../data/train/', x), files_tr))\n",
    "files_v = os.listdir('../data/val')\n",
    "files_v = list(map(lambda x : os.path.join('../data/val/', x), files_v))\n",
    "files_te = os.listdir('../data/test')\n",
    "files_te = list(map(lambda x : os.path.join('../data/test/', x), files_te))\n",
    "files = files_tr+files_v+files_te\n",
    "\n",
    "datastore.upload_files(files=files, relative_root='../data', target_path='datasets/TexDat')"
   ]
  },
  {
   "cell_type": "markdown",
   "metadata": {
    "collapsed": false,
    "pycharm": {
     "name": "#%% md\n"
    }
   },
   "source": [
    "## 4. Create Dataset\n",
    "For me personally, it was easier to create Dataset manually in Studio than to use the API...\n",
    "\n",
    "![Create dataset](./../img/create_dataset.gif \"Create Dataset, ..., File, Blob, ..., Path to files/**\")"
   ]
  },
  {
   "cell_type": "markdown",
   "metadata": {
    "collapsed": false,
    "pycharm": {
     "name": "#%% md\n"
    }
   },
   "source": [
    "## 5. Create Control run script\n",
    "There are several tutorials in the AzureML documentation... maybe most useful are these few:\n",
    "1. [Hello World](https://docs.microsoft.com/en-us/azure/machine-learning/tutorial-1st-experiment-hello-world)\n",
    "2. [Train your ML network](https://docs.microsoft.com/en-us/azure/machine-learning/tutorial-1st-experiment-sdk-train)\n",
    "3. [Use own data](https://docs.microsoft.com/en-us/azure/machine-learning/tutorial-1st-experiment-bring-data)\n",
    "4. [Create SW Environment](https://docs.microsoft.com/en-us/azure/machine-learning/how-to-use-environments)\n",
    "5. [Where & How to save outputs from your training](https://docs.microsoft.com/en-us/azure/machine-learning/how-to-save-write-experiment-files)\n",
    "\n",
    "\n",
    "### 5.1. Let's start here with useful imports\n",
    "If you are starting from here and don't have all the imports from previous steps, then here you are..."
   ]
  },
  {
   "cell_type": "code",
   "execution_count": 1,
   "metadata": {
    "collapsed": true
   },
   "outputs": [
    {
     "name": "stdout",
     "output_type": "stream",
     "text": [
      "Azure ML SDK Version:  1.28.0\n"
     ]
    }
   ],
   "source": [
    "import os\n",
    "import azureml.core\n",
    "from azureml.core import Workspace\n",
    "from azureml.core import Experiment\n",
    "from azureml.core.environment import Environment\n",
    "from azureml.core import ScriptRunConfig\n",
    "from azureml.core import Dataset\n",
    "from azureml.data.datapath import DataPath\n",
    "from azureml.core.authentication import InteractiveLoginAuthentication\n",
    "\n",
    "print(\"Azure ML SDK Version: \", azureml.core.VERSION)"
   ]
  },
  {
   "cell_type": "markdown",
   "metadata": {
    "collapsed": false,
    "pycharm": {
     "name": "#%% md\n"
    }
   },
   "source": [
    "### 5.2 Don't forget to log in to your workspace\n",
    "(usually the authentication is required only the first time)"
   ]
  },
  {
   "cell_type": "code",
   "execution_count": 2,
   "metadata": {
    "collapsed": false,
    "pycharm": {
     "name": "#%%\n"
    }
   },
   "outputs": [
    {
     "name": "stdout",
     "output_type": "stream",
     "text": [
      "a0047stufiitml01\twesteurope\ta0047-STUFIIT-ML01\n"
     ]
    }
   ],
   "source": [
    "ws = Workspace.from_config('azure_config.json', auth=InteractiveLoginAuthentication())\n",
    "print(ws.name, ws.location, ws.resource_group, sep='\\t')"
   ]
  },
  {
   "cell_type": "markdown",
   "metadata": {
    "collapsed": false,
    "pycharm": {
     "name": "#%% md\n"
    }
   },
   "source": [
    "### 5.3 Get your created Dataset - for use in training"
   ]
  },
  {
   "cell_type": "code",
   "execution_count": 6,
   "metadata": {
    "collapsed": false,
    "pycharm": {
     "name": "#%%\n"
    }
   },
   "outputs": [],
   "source": [
    "dataset = Dataset.get_by_name(workspace=ws, name='TexDat')"
   ]
  },
  {
   "cell_type": "markdown",
   "metadata": {
    "collapsed": false,
    "pycharm": {
     "name": "#%% md\n"
    }
   },
   "source": [
    "### 5.4 Pretty much everything is configured by this ScriptRunConfig\n",
    "Read the [documentation](https://docs.microsoft.com/en-us/python/api/azureml-core/azureml.core.scriptrunconfig?view=azure-ml-py). <br>\n",
    "If you ever wondered, how the Azure runs your scripts - it uploads your `source_directory`. Use `.gitignore` if there is anything not required to run your script, because the whole space for created snapshot is only 300MB including `./outputs`. <br>\n",
    "You can [override snapshot size limit](https://docs.microsoft.com/en-us/azure/machine-learning/how-to-save-write-experiment-files#storage-limits-of-experiment-snapshots), though."
   ]
  },
  {
   "cell_type": "code",
   "execution_count": 12,
   "metadata": {
    "collapsed": false,
    "pycharm": {
     "name": "#%%\n"
    }
   },
   "outputs": [],
   "source": [
    "config = ScriptRunConfig(source_directory='../',\n",
    "                         script='main.py',\n",
    "                         arguments=['--wandb', \"use your own key :P\",\n",
    "                                    '--data_path', dataset.as_mount()], # This is important how to mount dataset from DataStore\n",
    "                         compute_target='P100x1-hudec') # Compute target is your created compute cluster"
   ]
  },
  {
   "cell_type": "markdown",
   "metadata": {
    "collapsed": false,
    "pycharm": {
     "name": "#%% md\n"
    }
   },
   "source": [
    "### 5.4 Set the name of your experiment\n",
    "... where all your runs will be aggregated"
   ]
  },
  {
   "cell_type": "code",
   "execution_count": 8,
   "metadata": {
    "collapsed": false,
    "pycharm": {
     "name": "#%%\n"
    }
   },
   "outputs": [],
   "source": [
    "experiment = Experiment(workspace=ws, name='Texture2018')"
   ]
  },
  {
   "cell_type": "markdown",
   "metadata": {
    "collapsed": false,
    "pycharm": {
     "name": "#%% md\n"
    }
   },
   "source": [
    "### 5.5 Create/Select your required remote environment\n",
    "###### Note1: pip install opencv-python-headless - for standard opencv AzureML returns import error\n",
    "###### Note2: Beware that not all latest libraries are available for AzureML... PyTorch 1.8.0 thankfully is ;)\n",
    "\n",
    "#### 5.5.1 You can list [curated](https://docs.microsoft.com/en-us/azure/machine-learning/how-to-use-environments#use-a-curated-environment) azure environments\n",
    "And select one of already registered environments - if it has all you need for your ML project"
   ]
  },
  {
   "cell_type": "code",
   "execution_count": 35,
   "metadata": {
    "collapsed": false,
    "pycharm": {
     "name": "#%%\n"
    }
   },
   "outputs": [
    {
     "name": "stdout",
     "output_type": "stream",
     "text": [
      "0. pt-wandb-env\n",
      "1. tf-wandb-env\n",
      "2. Torch1.8-Opencv-wandb\n",
      "3. AzureML-Pytorch1.7-Cuda11-OpenMpi4.1.0-py36\n",
      "4. AzureML-Scikit-learn0.24-Cuda11-OpenMpi4.1.0-py36\n",
      "5. AzureML-TensorFlow2.4-Cuda11-OpenMpi4.1.0-py36\n",
      "6. AzureML-Minimal\n",
      "7. AzureML-Triton\n",
      "8. AzureML-Minimal-Inference-CPU\n",
      "9. AzureML-TensorFlow-1.15-Inference-CPU\n",
      "10. AzureML-PyTorch-1.6-CPU\n",
      "11. AzureML-XGBoost-0.9-Inference-CPU\n",
      "12. AzureML-PyTorch-1.6-Inference-CPU\n",
      "13. AzureML-DeepSpeed-0.3-GPU\n",
      "14. AzureML-TensorFlow-2.3-CPU\n",
      "15. AzureML-PyTorch-1.6-GPU\n",
      "16. AzureML-TensorFlow-2.3-GPU\n",
      "17. AzureML-TensorFlow-2.2-CPU\n",
      "18. AzureML-Tutorial\n",
      "19. AzureML-TensorFlow-2.2-GPU\n",
      "20. AzureML-tensorflow-2.4-ubuntu18.04-py37-cuda11-gpu\n",
      "21. AzureML-sklearn-0.24-ubuntu18.04-py37-cuda11-gpu\n",
      "22. AzureML-pytorch-1.7-ubuntu18.04-py37-cuda11-gpu\n",
      "23. AzureML-VowpalWabbit-8.8.0\n",
      "24. AzureML-PyTorch-1.3-CPU\n",
      "25. AzureML-PyTorch-1.5-CPU\n",
      "26. AzureML-PyTorch-1.5-GPU\n"
     ]
    }
   ],
   "source": [
    "for i,key in enumerate(ws.environments.keys()):\n",
    "    print(f\"{i}.\",key)"
   ]
  },
  {
   "cell_type": "markdown",
   "metadata": {
    "collapsed": false,
    "pycharm": {
     "name": "#%% md\n"
    }
   },
   "source": [
    "You can see the libraries included (watch for the counter)"
   ]
  },
  {
   "cell_type": "code",
   "execution_count": 38,
   "metadata": {
    "collapsed": false,
    "pycharm": {
     "name": "#%%\n"
    }
   },
   "outputs": [
    {
     "name": "stdout",
     "output_type": "stream",
     "text": [
      "Name pt-wandb-env\n",
      "packages channels:\n",
      "- conda-forge\n",
      "- anaconda\n",
      "dependencies:\n",
      "- python=3.6.2\n",
      "- scipy\n",
      "- scikit-image\n",
      "- scikit-learn\n",
      "- numpy\n",
      "- pandas\n",
      "- pip:\n",
      "  - azureml-defaults\n",
      "  - azureml-core\n",
      "  - azureml-dataset-runtime\n",
      "  - wandb\n",
      "  - Pillow\n",
      "  - torch==1.6.0\n",
      "  - torchvision==0.7.0\n",
      "name: azureml_ab95fef37536a3cdc05badd51f080bd5\n",
      "\n",
      "Name tf-wandb-env\n",
      "packages channels:\n",
      "- conda-forge\n",
      "- anaconda\n",
      "dependencies:\n",
      "- python=3.6.2\n",
      "- scipy\n",
      "- scikit-image\n",
      "- scikit-learn\n",
      "- numpy\n",
      "- pandas\n",
      "- pip:\n",
      "  - azureml-core\n",
      "  - azureml-dataset-runtime\n",
      "  - tensorflow-gpu==2.2.0\n",
      "  - wandb\n",
      "  - Pillow\n",
      "name: azureml_fa25278502cdb61f88f71980f535b1b5\n",
      "\n",
      "Name Torch1.8-Opencv-wandb\n",
      "packages channels:\n",
      "- anaconda\n",
      "- conda-forge\n",
      "dependencies:\n",
      "- python=3.6.2\n",
      "- pip:\n",
      "  - wandb==0.10.30\n",
      "  - torch>=1.8.1\n",
      "  - torch-summary\n",
      "  - numpy>=1.19.3\n",
      "  - opencv-python-headless>=4.4.0.46\n",
      "  - matplotlib>=3.3.3\n",
      "  - tqdm==4.60.0\n",
      "  - azureml-core==1.28.0\n",
      "- pip\n",
      "name: azureml_d0e2eed3435e05eb20828b9dfa35f644\n",
      "\n"
     ]
    }
   ],
   "source": [
    "envs = Environment.list(workspace=ws)\n",
    "count = 0\n",
    "for env in envs:\n",
    "    print(\"Name\",env)\n",
    "    print(\"packages\", envs[env].python.conda_dependencies.serialize_to_string())\n",
    "    count += 1\n",
    "    if count == 3:\n",
    "        break"
   ]
  },
  {
   "cell_type": "markdown",
   "metadata": {
    "collapsed": false,
    "pycharm": {
     "name": "#%% md\n"
    }
   },
   "source": [
    "#### 5.5.2 Or you can create your own environment\n",
    ".. from scratch using conda dependencies or pip [requirements.txt](https://docs.microsoft.com/en-us/azure/machine-learning/how-to-use-environments#use-conda-dependencies-or-pip-requirements-files)\n",
    ".. dont't forget to register it to workspace\n",
    ".. you can allow Docker for quicker loading..."
   ]
  },
  {
   "cell_type": "code",
   "execution_count": null,
   "metadata": {
    "collapsed": false,
    "pycharm": {
     "name": "#%%\n"
    }
   },
   "outputs": [],
   "source": [
    "azureml.core.runconfig.DockerConfiguration(use_docker=True)\n",
    "env = Environment.from_pip_requirements(name='Torch1.8-Opencv-wandb', file_path='../requirements.txt')\n",
    "env.register(workspace=ws)"
   ]
  },
  {
   "cell_type": "markdown",
   "metadata": {
    "collapsed": false,
    "pycharm": {
     "name": "#%% md\n"
    }
   },
   "source": [
    "#### 5.5.3. Select the one environment you desire\n",
    "Or actually once you create your required env and register it, this is the only thing you will be calling `Environment.get(...)`"
   ]
  },
  {
   "cell_type": "code",
   "execution_count": 49,
   "metadata": {
    "collapsed": false,
    "pycharm": {
     "name": "#%%\n"
    }
   },
   "outputs": [
    {
     "data": {
      "text/plain": [
       "{\n",
       "    \"databricks\": {\n",
       "        \"eggLibraries\": [],\n",
       "        \"jarLibraries\": [],\n",
       "        \"mavenLibraries\": [],\n",
       "        \"pypiLibraries\": [],\n",
       "        \"rcranLibraries\": []\n",
       "    },\n",
       "    \"docker\": {\n",
       "        \"arguments\": [],\n",
       "        \"baseDockerfile\": null,\n",
       "        \"baseImage\": \"mcr.microsoft.com/azureml/openmpi3.1.2-ubuntu18.04:20210301.v1\",\n",
       "        \"baseImageRegistry\": {\n",
       "            \"address\": null,\n",
       "            \"password\": null,\n",
       "            \"registryIdentity\": null,\n",
       "            \"username\": null\n",
       "        },\n",
       "        \"enabled\": false,\n",
       "        \"platform\": {\n",
       "            \"architecture\": \"amd64\",\n",
       "            \"os\": \"Linux\"\n",
       "        },\n",
       "        \"sharedVolumes\": true,\n",
       "        \"shmSize\": null\n",
       "    },\n",
       "    \"environmentVariables\": {\n",
       "        \"EXAMPLE_ENV_VAR\": \"EXAMPLE_VALUE\"\n",
       "    },\n",
       "    \"inferencingStackVersion\": null,\n",
       "    \"name\": \"Torch1.8-Opencv-wandb\",\n",
       "    \"python\": {\n",
       "        \"baseCondaEnvironment\": null,\n",
       "        \"condaDependencies\": {\n",
       "            \"channels\": [\n",
       "                \"anaconda\",\n",
       "                \"conda-forge\"\n",
       "            ],\n",
       "            \"dependencies\": [\n",
       "                \"python=3.6.2\",\n",
       "                {\n",
       "                    \"pip\": [\n",
       "                        \"wandb==0.10.30\",\n",
       "                        \"torch>=1.8.1\",\n",
       "                        \"torch-summary\",\n",
       "                        \"numpy>=1.19.3\",\n",
       "                        \"opencv-python-headless>=4.4.0.46\",\n",
       "                        \"matplotlib>=3.3.3\",\n",
       "                        \"tqdm==4.60.0\",\n",
       "                        \"azureml-core==1.28.0\"\n",
       "                    ]\n",
       "                },\n",
       "                \"pip\"\n",
       "            ],\n",
       "            \"name\": \"azureml_d0e2eed3435e05eb20828b9dfa35f644\"\n",
       "        },\n",
       "        \"condaDependenciesFile\": null,\n",
       "        \"interpreterPath\": \"python\",\n",
       "        \"userManagedDependencies\": false\n",
       "    },\n",
       "    \"r\": null,\n",
       "    \"spark\": {\n",
       "        \"packages\": [],\n",
       "        \"precachePackages\": true,\n",
       "        \"repositories\": []\n",
       "    },\n",
       "    \"version\": \"2\"\n",
       "}"
      ]
     },
     "execution_count": 49,
     "metadata": {},
     "output_type": "execute_result"
    }
   ],
   "source": [
    "env = Environment.get(workspace=ws, name='Torch1.8-Opencv-wandb')"
   ]
  },
  {
   "cell_type": "markdown",
   "metadata": {
    "collapsed": false,
    "pycharm": {
     "name": "#%% md\n"
    }
   },
   "source": [
    "#### 5.5.4. And of course, we need to use the environment"
   ]
  },
  {
   "cell_type": "code",
   "execution_count": 13,
   "metadata": {
    "collapsed": false,
    "pycharm": {
     "name": "#%%\n"
    }
   },
   "outputs": [],
   "source": [
    "config.run_config.environment = env\n"
   ]
  },
  {
   "cell_type": "markdown",
   "metadata": {
    "collapsed": false,
    "pycharm": {
     "name": "#%% md\n"
    }
   },
   "source": [
    "## 5.6. Submit your experiment with config to AzureML\n",
    "...and watch it in your jupyter ntb or in azureml studio.."
   ]
  },
  {
   "cell_type": "code",
   "execution_count": 14,
   "metadata": {
    "collapsed": false,
    "pycharm": {
     "name": "#%%\n"
    }
   },
   "outputs": [],
   "source": [
    "run = experiment.submit(config)"
   ]
  },
  {
   "cell_type": "code",
   "execution_count": 28,
   "metadata": {
    "collapsed": false,
    "pycharm": {
     "name": "#%%\n"
    }
   },
   "outputs": [
    {
     "name": "stdout",
     "output_type": "stream",
     "text": [
      "https://ml.azure.com/runs/Texture2018_1621849379_0e646884?wsid=/subscriptions/bc82dccd-f19d-42cb-9ce3-0d5df33ef086/resourcegroups/a0047-STUFIIT-ML01/workspaces/a0047stufiitml01&tid=5dbf1add-202a-4b8d-815b-bf0fb024e033\n"
     ]
    }
   ],
   "source": [
    "aml_url = run.get_portal_url()\n",
    "print(aml_url)"
   ]
  },
  {
   "cell_type": "markdown",
   "metadata": {
    "collapsed": false,
    "pycharm": {
     "name": "#%% md\n"
    }
   },
   "source": [
    "# There is a lot more to do with Azure...\n",
    "Like logging for example... <br>\n",
    "I did not try it, because I use [wandb](wandb.ai). <br>\n",
    "\n",
    "## Important\n",
    "To log anything, use AML [Run module](https://docs.microsoft.com/en-us/python/api/azureml-core/azureml.core.run(class)?view=azure-ml-py#azureml_core_Run_get_context) <br>\n",
    "To save your model - use `import os` and save it to default directory `./outputs`. Then, you can use `os` calls and also torch/tf calls to save models when you have the correct path\n",
    "\n",
    "This is where you will find it all: <br>\n",
    "![Runs Outputs](./../img/run_outputs.png)"
   ]
  }
 ],
 "metadata": {
  "kernelspec": {
   "display_name": "Python 3",
   "language": "python",
   "name": "python3"
  },
  "language_info": {
   "codemirror_mode": {
    "name": "ipython",
    "version": 3
   },
   "file_extension": ".py",
   "mimetype": "text/x-python",
   "name": "python",
   "nbconvert_exporter": "python",
   "pygments_lexer": "ipython3",
   "version": "3.9.5"
  }
 },
 "nbformat": 4,
 "nbformat_minor": 0
}
